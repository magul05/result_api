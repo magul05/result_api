{
 "cells": [
  {
   "cell_type": "code",
   "execution_count": 32,
   "id": "9d1a1e23-8c9f-4434-a6fc-da4d820e6ecc",
   "metadata": {},
   "outputs": [],
   "source": [
    "import requests as http\n",
    "base_url = \"http://localhost/resfull_api/api\""
   ]
  },
  {
   "cell_type": "markdown",
   "id": "a698e717-3b3c-425f-bea8-a6739d2147d4",
   "metadata": {},
   "source": [
    "## method"
   ]
  },
  {
   "cell_type": "code",
   "execution_count": 38,
   "id": "9bcd1de8-39ce-43d4-a02a-1d3e9ec65916",
   "metadata": {},
   "outputs": [
    {
     "name": "stdout",
     "output_type": "stream",
     "text": [
      "nama:ariasa\n",
      "nim:21040059\n",
      "email :ariasa0512@gmail.com\n",
      "alamat:kramat\n",
      "\n",
      "nama:agung kusuma pradana\n",
      "nim:6767767\n",
      "email :agung13@gmail.com\n",
      "alamat:tegal\n",
      "\n",
      "nama:agung kusuma pradana\n",
      "nim:6767767\n",
      "email :agung13@gmail.com\n",
      "alamat:tegal\n",
      "\n",
      "nama:agung kusuma pradana\n",
      "nim:6767767\n",
      "email :agung13@gmail.com\n",
      "alamat:tegal\n",
      "\n"
     ]
    }
   ],
   "source": [
    "request = http.get(base_url + '/mahasiswa')\n",
    "\n",
    "response = request.json()\n",
    "\n",
    "#print(response)\n",
    "#print(response.status_code)\n",
    "if request.status_code == 200:\n",
    "    data = response[\"data\"]\n",
    "    for mahasiswa in data:\n",
    "        print(\"nama:\" + mahasiswa[\"nama\"])\n",
    "        print(\"nim:\" + mahasiswa[\"nim\"])\n",
    "        print(\"email :\" + mahasiswa[\"email\"])\n",
    "        print(\"alamat:\" + mahasiswa[\"alamat\"])\n",
    "        print()\n",
    "        \n"
   ]
  },
  {
   "cell_type": "markdown",
   "id": "2f56fc14-d854-4ac9-9a12-0ee5e80fa6dc",
   "metadata": {},
   "source": [
    "## method post"
   ]
  },
  {
   "cell_type": "code",
   "execution_count": 43,
   "id": "260ae420-9921-456f-a45c-d63961e7112f",
   "metadata": {},
   "outputs": [
    {
     "name": "stdout",
     "output_type": "stream",
     "text": [
      "200\n",
      "{'status': True, 'message': 'Tambah data mahasiswa berhasil'}\n"
     ]
    }
   ],
   "source": [
    "mahasiswa = {\n",
    "    \"nama\": \"agung kusuma pradana\",\n",
    "    \"nim\" : 6767767,\n",
    "    \"email\" : \"agung13@gmail.com\",\n",
    "    \"alamat\": \"tegal\"\n",
    "}\n",
    "request = http.post(base_url + '/mahasiswa/create', json = mahasiswa)\n",
    "response = request.json()\n",
    "print(request.status_code)\n",
    "print(response)\n",
    "\n"
   ]
  },
  {
   "cell_type": "code",
   "execution_count": 44,
   "id": "6d4c6d4b-28b9-4329-8e16-ead61e94ccb7",
   "metadata": {},
   "outputs": [
    {
     "name": "stdout",
     "output_type": "stream",
     "text": [
      "200\n",
      "{'status': True, 'message': 'Data berhasil dihapus!!'}\n"
     ]
    }
   ],
   "source": [
    "request = http.delete(base_url + '/mahasiswa/delete/6767767')\n",
    "response = request.json()\n",
    "print(request.status_code)\n",
    "print(response)"
   ]
  },
  {
   "cell_type": "markdown",
   "id": "26d0ba06-3711-4b85-9ae7-4dd8521a683f",
   "metadata": {},
   "source": [
    "## API PUBLIC"
   ]
  },
  {
   "cell_type": "code",
   "execution_count": 57,
   "id": "bd429dea-576f-4d5a-a4f6-150d133d20c6",
   "metadata": {},
   "outputs": [
    {
     "name": "stdout",
     "output_type": "stream",
     "text": [
      "judul :Gran Turismo\n",
      "overview :The ultimate wish-fulfillment tale of a teenage Gran Turismo player whose gaming skills won him a series of Nissan competitions to become an actual professional racecar driver.\n",
      "tanggal rilis :2023-08-09\n",
      "\n",
      "judul :Sound of Freedom\n",
      "overview :The story of Tim Ballard, a former US government agent, who quits his job in order to devote his life to rescuing children from global sex traffickers.\n",
      "tanggal rilis :2023-07-03\n",
      "\n",
      "judul :The Nun II\n",
      "overview :In 1956 France, a priest is violently murdered, and Sister Irene begins to investigate. She once again comes face-to-face with a powerful evil.\n",
      "tanggal rilis :2023-09-06\n",
      "\n",
      "judul :Blue Beetle\n",
      "overview :Recent college grad Jaime Reyes returns home full of aspirations for his future, only to find that home is not quite as he left it. As he searches to find his purpose in the world, fate intervenes when Jaime unexpectedly finds himself in possession of an ancient relic of alien biotechnology: the Scarab.\n",
      "tanggal rilis :2023-08-16\n",
      "\n",
      "judul :Meg 2: The Trench\n",
      "overview :An exploratory dive into the deepest depths of the ocean of a daring research team spirals into chaos when a malevolent mining operation threatens their mission and forces them into a high-stakes battle for survival.\n",
      "tanggal rilis :2023-08-02\n",
      "\n",
      "judul :Retribution\n",
      "overview :When a mysterious caller puts a bomb under his car seat, Matt Turner begins a high-speed chase across the city to complete a specific series of tasks. With his kids trapped in the back seat and a bomb that will explode if they get out of the car, a normal commute becomes a twisted game of life or death as Matt follows the stranger's increasingly dangerous instructions in a race against time to save his family.\n",
      "tanggal rilis :2023-08-23\n",
      "\n",
      "judul :Fast X\n",
      "overview :Over many missions and against impossible odds, Dom Toretto and his family have outsmarted, out-nerved and outdriven every foe in their path. Now, they confront the most lethal opponent they've ever faced: A terrifying threat emerging from the shadows of the past who's fueled by blood revenge, and who is determined to shatter this family and destroy everything—and everyone—that Dom loves, forever.\n",
      "tanggal rilis :2023-05-17\n",
      "\n",
      "judul :After Everything\n",
      "overview :Besieged by writer’s block and the crushing breakup with Tessa, Hardin travels to Portugal in search of a woman he wronged in the past – and to find himself. Hoping to win back Tessa, he realizes he needs to change his ways before he can make the ultimate commitment.\n",
      "tanggal rilis :2023-09-13\n",
      "\n",
      "judul :Sniper: G.R.I.T. - Global Response & Intelligence Team\n",
      "overview :When an international terrorist cult threatens global political stability and kidnaps a fellow agent, Ace Sniper Brandon Beckett and the newly-formed Global Response & Intelligence Team – or G.R.I.T. – led by Colonel Stone must travel across the world to Malta, infiltrate the cult, and take out its leader to free Lady Death and stop the global threat.\n",
      "tanggal rilis :2023-09-26\n",
      "\n",
      "judul :Talk to Me\n",
      "overview :When a group of friends discover how to conjure spirits using an embalmed hand, they become hooked on the new thrill, until one of them goes too far and unleashes terrifying supernatural forces.\n",
      "tanggal rilis :2023-07-26\n",
      "\n",
      "judul :Barbie\n",
      "overview :Barbie and Ken are having the time of their lives in the colorful and seemingly perfect world of Barbie Land. However, when they get a chance to go to the real world, they soon discover the joys and perils of living among humans.\n",
      "tanggal rilis :2023-07-19\n",
      "\n",
      "judul :No One Will Save You\n",
      "overview :An exiled anxiety-ridden homebody must battle an alien who's found its way into her home.\n",
      "tanggal rilis :2023-09-22\n",
      "\n",
      "judul :Saw X\n",
      "overview :Between the events of 'Saw' and 'Saw II', a sick and desperate John Kramer travels to Mexico for a risky and experimental medical procedure in hopes of a miracle cure for his cancer, only to discover the entire operation is a scam to defraud the most vulnerable. Armed with a newfound purpose, the infamous serial killer returns to his work, turning the tables on the con artists in his signature visceral way through devious, deranged, and ingenious traps.\n",
      "tanggal rilis :2023-09-26\n",
      "\n",
      "judul :The Equalizer 3\n",
      "overview :Robert McCall finds himself at home in Southern Italy but he discovers his friends are under the control of local crime bosses. As events turn deadly, McCall knows what he has to do: become his friends' protector by taking on the mafia.\n",
      "tanggal rilis :2023-08-30\n",
      "\n",
      "judul :The Black Book\n",
      "overview :After his son is wrongly accused of kidnapping, a deacon who has just lost his wife takes matters into his own hands and fights a crooked police gang to clear him.\n",
      "tanggal rilis :2023-09-22\n",
      "\n",
      "judul :Elemental\n",
      "overview :In a city where fire, water, land and air residents live together, a fiery young woman and a go-with-the-flow guy will discover something elemental: how much they have in common.\n",
      "tanggal rilis :2023-06-14\n",
      "\n",
      "judul :Amigos\n",
      "overview :Siddharth, a youngman who runs a family business is astonished to find his doppelgängers Manjunath and Michael on getdopple.com. After meeting up in Goa, they come down to Hyderabad to help Siddarth win over Ishika, a girl looking for superman to be her husband. But things take a drastic turn when NIA swings into action to nab Michael, aka Bipin Roy.\n",
      "tanggal rilis :2023-02-10\n",
      "\n",
      "judul :Let Her Kill You\n",
      "overview :Alone in the mountains of Switzerland, Anne discovers that her isolated chalet is on surveillance and has been bugged. Caught up by her former life as an intelligence secret agent and an affair with her handler, Anne can only count on herself to get out alive.\n",
      "tanggal rilis :2023-03-08\n",
      "\n",
      "judul :Operation Napoleon\n",
      "overview :A modern-day lawyer is sucked into an international conspiracy after being accused of a murder she didn't commit. Her only chance of freedom lies in uncovering the secret of an old German WWII aeroplane, long buried deep beneath the ice, before the CIA.\n",
      "tanggal rilis :2023-01-26\n",
      "\n",
      "judul :Transformers: Rise of the Beasts\n",
      "overview :When a new threat capable of destroying the entire planet emerges, Optimus Prime and the Autobots must team up with a powerful faction known as the Maximals. With the fate of humanity hanging in the balance, humans Noah and Elena will do whatever it takes to help the Transformers as they engage in the ultimate battle to save Earth.\n",
      "tanggal rilis :2023-06-06\n",
      "\n"
     ]
    }
   ],
   "source": [
    "url_api_public = \"https://api.themoviedb.org/3\"\n",
    "api_key = \"2174d146bb9c0eab47529b2e77d6b526\"\n",
    "\n",
    "request = http.get(url_api_public + '/movie/popular?api_key=' + api_key)\n",
    "#print(request.status_code)\n",
    "if request.status_code==200:\n",
    "    response = request.json()\n",
    "\n",
    "    for movie in response[\"results\"]:\n",
    "        print (\"judul :\" + movie[\"title\"])\n",
    "        print (\"overview :\" + movie[\"overview\"])\n",
    "        print (\"tanggal rilis :\" + movie[\"release_date\"])\n",
    "        print()"
   ]
  },
  {
   "cell_type": "code",
   "execution_count": 58,
   "id": "dff6c869-ba60-48cd-be99-144ed7e444ab",
   "metadata": {},
   "outputs": [
    {
     "name": "stdout",
     "output_type": "stream",
     "text": [
      "judul :Gran Turismo\n",
      "overview :The ultimate wish-fulfillment tale of a teenage Gran Turismo player whose gaming skills won him a series of Nissan competitions to become an actual professional racecar driver.\n",
      "tanggal rilis :2023-08-09\n",
      "\n",
      "judul :Sound of Freedom\n",
      "overview :The story of Tim Ballard, a former US government agent, who quits his job in order to devote his life to rescuing children from global sex traffickers.\n",
      "tanggal rilis :2023-07-03\n",
      "\n",
      "judul :The Nun II\n",
      "overview :In 1956 France, a priest is violently murdered, and Sister Irene begins to investigate. She once again comes face-to-face with a powerful evil.\n",
      "tanggal rilis :2023-09-06\n",
      "\n",
      "judul :Blue Beetle\n",
      "overview :Recent college grad Jaime Reyes returns home full of aspirations for his future, only to find that home is not quite as he left it. As he searches to find his purpose in the world, fate intervenes when Jaime unexpectedly finds himself in possession of an ancient relic of alien biotechnology: the Scarab.\n",
      "tanggal rilis :2023-08-16\n",
      "\n",
      "judul :Meg 2: The Trench\n",
      "overview :An exploratory dive into the deepest depths of the ocean of a daring research team spirals into chaos when a malevolent mining operation threatens their mission and forces them into a high-stakes battle for survival.\n",
      "tanggal rilis :2023-08-02\n",
      "\n",
      "judul :Retribution\n",
      "overview :When a mysterious caller puts a bomb under his car seat, Matt Turner begins a high-speed chase across the city to complete a specific series of tasks. With his kids trapped in the back seat and a bomb that will explode if they get out of the car, a normal commute becomes a twisted game of life or death as Matt follows the stranger's increasingly dangerous instructions in a race against time to save his family.\n",
      "tanggal rilis :2023-08-23\n",
      "\n",
      "judul :After Everything\n",
      "overview :Besieged by writer’s block and the crushing breakup with Tessa, Hardin travels to Portugal in search of a woman he wronged in the past – and to find himself. Hoping to win back Tessa, he realizes he needs to change his ways before he can make the ultimate commitment.\n",
      "tanggal rilis :2023-09-13\n",
      "\n",
      "judul :Talk to Me\n",
      "overview :When a group of friends discover how to conjure spirits using an embalmed hand, they become hooked on the new thrill, until one of them goes too far and unleashes terrifying supernatural forces.\n",
      "tanggal rilis :2023-07-26\n",
      "\n",
      "judul :Barbie\n",
      "overview :Barbie and Ken are having the time of their lives in the colorful and seemingly perfect world of Barbie Land. However, when they get a chance to go to the real world, they soon discover the joys and perils of living among humans.\n",
      "tanggal rilis :2023-07-19\n",
      "\n",
      "judul :Saw X\n",
      "overview :Between the events of 'Saw' and 'Saw II', a sick and desperate John Kramer travels to Mexico for a risky and experimental medical procedure in hopes of a miracle cure for his cancer, only to discover the entire operation is a scam to defraud the most vulnerable. Armed with a newfound purpose, the infamous serial killer returns to his work, turning the tables on the con artists in his signature visceral way through devious, deranged, and ingenious traps.\n",
      "tanggal rilis :2023-09-26\n",
      "\n",
      "judul :The Equalizer 3\n",
      "overview :Robert McCall finds himself at home in Southern Italy but he discovers his friends are under the control of local crime bosses. As events turn deadly, McCall knows what he has to do: become his friends' protector by taking on the mafia.\n",
      "tanggal rilis :2023-08-30\n",
      "\n",
      "judul :Operation Napoleon\n",
      "overview :A modern-day lawyer is sucked into an international conspiracy after being accused of a murder she didn't commit. Her only chance of freedom lies in uncovering the secret of an old German WWII aeroplane, long buried deep beneath the ice, before the CIA.\n",
      "tanggal rilis :2023-01-26\n",
      "\n",
      "judul :The Creator\n",
      "overview :Amid a future war between the human race and the forces of artificial intelligence, a hardened ex-special forces agent grieving the disappearance of his wife, is recruited to hunt down and kill the Creator, the elusive architect of advanced AI who has developed a mysterious weapon with the power to end the war—and mankind itself.\n",
      "tanggal rilis :2023-09-27\n",
      "\n",
      "judul :Kandahar\n",
      "overview :After his mission is exposed, an undercover CIA operative stuck deep in hostile territory in Afghanistan must fight his way out, alongside his Afghan translator, to an extraction point in Kandahar, all whilst avoiding elite enemy forces and foreign spies tasked with hunting them down.\n",
      "tanggal rilis :2023-05-25\n",
      "\n",
      "judul :John Wick: Chapter 4\n",
      "overview :With the price on his head ever increasing, John Wick uncovers a path to defeating The High Table. But before he can earn his freedom, Wick must face off against a new enemy with powerful alliances across the globe and forces that turn old friends into foes.\n",
      "tanggal rilis :2023-03-22\n",
      "\n",
      "judul :Mojave Diamonds\n",
      "overview :A former MMA fighter and his brothers must rescue their kidnapped family from a dangerous crime syndicate after $50M of illegal diamonds gets stolen.\n",
      "tanggal rilis :2023-08-24\n",
      "\n",
      "judul :Oppenheimer\n",
      "overview :The story of J. Robert Oppenheimer’s role in the development of the atomic bomb during World War II.\n",
      "tanggal rilis :2023-07-19\n",
      "\n",
      "judul :The Super Mario Bros. Movie\n",
      "overview :While working underground to fix a water main, Brooklyn plumbers—and brothers—Mario and Luigi are transported down a mysterious pipe and wander into a magical new world. But when the brothers are separated, Mario embarks on an epic quest to find Luigi.\n",
      "tanggal rilis :2023-04-05\n",
      "\n",
      "judul :Reptile\n",
      "overview :Following the brutal murder of a young real estate agent, a hardened detective attempts to uncover the truth in a case where nothing is as it seems, and by doing so dismantles the illusions in his own life.\n",
      "tanggal rilis :2023-09-29\n",
      "\n",
      "judul :Bottoms\n",
      "overview :Unpopular best friends PJ and Josie start a high school self-defense club to meet girls and lose their virginity. They soon find themselves in over their heads when the most popular students start beating each other up in the name of self-defense.\n",
      "tanggal rilis :2023-08-25\n",
      "\n"
     ]
    }
   ],
   "source": [
    "url_api_public = \"https://api.themoviedb.org/3\"\n",
    "api_key = \"2174d146bb9c0eab47529b2e77d6b526\"\n",
    "\n",
    "request = http.get(url_api_public + '/movie/now_playing?api_key=' + api_key)\n",
    "#print(request.status_code)\n",
    "if request.status_code==200:\n",
    "    response = request.json()\n",
    "\n",
    "    for movie in response[\"results\"]:\n",
    "        print (\"judul :\" + movie[\"title\"])\n",
    "        print (\"overview :\" + movie[\"overview\"])\n",
    "        print (\"tanggal rilis :\" + movie[\"release_date\"])\n",
    "        print()"
   ]
  },
  {
   "cell_type": "code",
   "execution_count": null,
   "id": "29c5123d-960f-4003-a529-05044cd00ba4",
   "metadata": {},
   "outputs": [],
   "source": []
  }
 ],
 "metadata": {
  "kernelspec": {
   "display_name": "Python 3 (ipykernel)",
   "language": "python",
   "name": "python3"
  },
  "language_info": {
   "codemirror_mode": {
    "name": "ipython",
    "version": 3
   },
   "file_extension": ".py",
   "mimetype": "text/x-python",
   "name": "python",
   "nbconvert_exporter": "python",
   "pygments_lexer": "ipython3",
   "version": "3.11.4"
  }
 },
 "nbformat": 4,
 "nbformat_minor": 5
}
